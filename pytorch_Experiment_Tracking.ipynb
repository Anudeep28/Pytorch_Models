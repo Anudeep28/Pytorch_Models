{
 "cells": [
  {
   "cell_type": "markdown",
   "metadata": {},
   "source": [
    "## 07. PyTorch Experiment Tracking Exercise Template\n",
    "Welcome to the 07. PyTorch Experiment Tracking exercise template notebook.\n",
    "\n",
    "* Note: There may be more than one solution to each of the exercises. This notebook only shows one possible example.\n",
    "\n",
    "* Resources\n",
    "* These exercises/solutions are based on section [07. PyTorch Transfer Learning](https://www.learnpytorch.io/07_pytorch_experiment_tracking/) of the Learn PyTorch for Deep Learning course by Zero to Mastery.\n",
    "* See a live [walkthrough of the solutions](https://youtu.be/cO_r2FYcAjU) (errors and all) on YouTube.\n",
    "* See other [solutions on the course GitHub.](https://github.com/mrdbourke/pytorch-deep-learning/tree/main/extras/solutions)"
   ]
  },
  {
   "cell_type": "code",
   "execution_count": 1,
   "metadata": {},
   "outputs": [
    {
     "name": "stdout",
     "output_type": "stream",
     "text": [
      "2.3.1+cu121\n",
      "0.18.1+cu121\n"
     ]
    }
   ],
   "source": [
    "# Getting the setup\n",
    "import torch\n",
    "import torchvision\n",
    "\n",
    "print(torch.__version__)\n",
    "print(torchvision.__version__)"
   ]
  },
  {
   "cell_type": "code",
   "execution_count": 13,
   "metadata": {},
   "outputs": [
    {
     "data": {
      "text/plain": [
       "'cuda'"
      ]
     },
     "execution_count": 13,
     "metadata": {},
     "output_type": "execute_result"
    }
   ],
   "source": [
    " # Make sure we have a GPU\n",
    " device = \"cuda\" if torch.cuda.is_available() else \"cpu\"\n",
    " device"
   ]
  },
  {
   "cell_type": "code",
   "execution_count": 1,
   "metadata": {},
   "outputs": [],
   "source": [
    "# Get regular imports \n",
    "import matplotlib.pyplot as plt\n",
    "import torch\n",
    "import torchvision\n",
    "\n",
    "from torch import nn\n",
    "from torchvision import transforms\n",
    "\n",
    "# Try to get torchinfo, install it if it doesn't work\n",
    "try:\n",
    "    from torchinfo import summary\n",
    "except:\n",
    "    print(\"[INFO] Couldn't find torchinfo... installing it.\")\n",
    "    !pip install -q torchinfo\n",
    "    from torchinfo import summary\n",
    "\n",
    "# Try to import the going_modular directory, download it from GitHub if it doesn't work\n",
    "try:\n",
    "    from going_modular import data_setup, engine\n",
    "except:\n",
    "    # Get the going_modular scripts\n",
    "    print(\"[INFO] Couldn't find going_modular scripts... downloading them from GitHub.\")\n",
    "    !git clone https://github.com/mrdbourke/pytorch-deep-learning\n",
    "    !mv pytorch-deep-learning/going_modular .\n",
    "    !rm -rf pytorch-deep-learning\n",
    "    from going_modular import data_setup, engine"
   ]
  },
  {
   "cell_type": "markdown",
   "metadata": {},
   "source": [
    "#### Create a helper function to set seeds\n"
   ]
  },
  {
   "cell_type": "code",
   "execution_count": 2,
   "metadata": {},
   "outputs": [],
   "source": [
    "# Set seeds\n",
    "def set_seeds(seed: int=42):\n",
    "    \"\"\"Sets random sets for torch operations.\n",
    "\n",
    "    Args:\n",
    "        seed (int, optional): Random seed to set. Defaults to 42.\n",
    "    \"\"\"\n",
    "    # Set the seed for general torch operations\n",
    "    torch.manual_seed(seed)\n",
    "    # Set the seed for CUDA torch operations (ones that happen on the GPU)\n",
    "    torch.cuda.manual_seed(seed)"
   ]
  },
  {
   "cell_type": "markdown",
   "metadata": {},
   "source": [
    "### 1. Get data\n",
    "* As always, before we can run machine learning experiments, we'll need a dataset.\n",
    "\n",
    "* We're going to continue trying to improve upon the results we've been getting on FoodVision Mini.\n",
    "\n",
    "* In the previous section, 06. PyTorch Transfer Learning, we saw how powerful using a pretrained model and transfer learning could be when classifying images of pizza, steak and sushi.\n",
    "\n",
    "* So how about we run some experiments and try to further improve our results?\n",
    "\n",
    "* To do so, we'll use similar code to the previous section to download the pizza_steak_sushi.zip (if the data doesn't already exist) except this time its been functionised."
   ]
  },
  {
   "cell_type": "code",
   "execution_count": 3,
   "metadata": {},
   "outputs": [
    {
     "name": "stdout",
     "output_type": "stream",
     "text": [
      "[INFO] data\\pizza_steak_sushi directory exists, skipping download.\n"
     ]
    },
    {
     "data": {
      "text/plain": [
       "WindowsPath('data/pizza_steak_sushi')"
      ]
     },
     "execution_count": 3,
     "metadata": {},
     "output_type": "execute_result"
    }
   ],
   "source": [
    "import os\n",
    "import zipfile\n",
    "\n",
    "from pathlib import Path\n",
    "\n",
    "import requests\n",
    "\n",
    "def download_data(source: str, \n",
    "                  destination: str,\n",
    "                  remove_source: bool = True) -> Path:\n",
    "    \"\"\"Downloads a zipped dataset from source and unzips to destination.\n",
    "\n",
    "    Args:\n",
    "        source (str): A link to a zipped file containing data.\n",
    "        destination (str): A target directory to unzip data to.\n",
    "        remove_source (bool): Whether to remove the source after downloading and extracting.\n",
    "    \n",
    "    Returns:\n",
    "        pathlib.Path to downloaded data.\n",
    "    \n",
    "    Example usage:\n",
    "        download_data(source=\"https://github.com/mrdbourke/pytorch-deep-learning/raw/main/data/pizza_steak_sushi.zip\",\n",
    "                      destination=\"pizza_steak_sushi\")\n",
    "    \"\"\"\n",
    "    # Setup path to data folder\n",
    "    data_path = Path(\"data/\")\n",
    "    image_path = data_path / destination\n",
    "\n",
    "    # If the image folder doesn't exist, download it and prepare it... \n",
    "    if image_path.is_dir():\n",
    "        print(f\"[INFO] {image_path} directory exists, skipping download.\")\n",
    "    else:\n",
    "        print(f\"[INFO] Did not find {image_path} directory, creating one...\")\n",
    "        image_path.mkdir(parents=True, exist_ok=True)\n",
    "        \n",
    "        # Download pizza, steak, sushi data\n",
    "        target_file = Path(source).name\n",
    "        with open(data_path / target_file, \"wb\") as f:\n",
    "            request = requests.get(source)\n",
    "            print(f\"[INFO] Downloading {target_file} from {source}...\")\n",
    "            f.write(request.content)\n",
    "\n",
    "        # Unzip pizza, steak, sushi data\n",
    "        with zipfile.ZipFile(data_path / target_file, \"r\") as zip_ref:\n",
    "            print(f\"[INFO] Unzipping {target_file} data...\") \n",
    "            zip_ref.extractall(image_path)\n",
    "\n",
    "        # Remove .zip file\n",
    "        if remove_source:\n",
    "            os.remove(data_path / target_file)\n",
    "    \n",
    "    return image_path\n",
    "\n",
    "image_path = download_data(source=\"https://github.com/mrdbourke/pytorch-deep-learning/raw/main/data/pizza_steak_sushi.zip\",\n",
    "                           destination=\"pizza_steak_sushi\")\n",
    "\n",
    "image_path"
   ]
  },
  {
   "cell_type": "code",
   "execution_count": 4,
   "metadata": {},
   "outputs": [],
   "source": [
    "from torch.utils.tensorboard import SummaryWriter\n",
    "def create_writer(experiment_name: str, \n",
    "                  model_name: str, \n",
    "                  extra: str=None):\n",
    "    \"\"\"Creates a torch.utils.tensorboard.writer.SummaryWriter() instance saving to a specific log_dir.\n",
    "\n",
    "    log_dir is a combination of runs/timestamp/experiment_name/model_name/extra.\n",
    "\n",
    "    Where timestamp is the current date in YYYY-MM-DD format.\n",
    "\n",
    "    Args:\n",
    "        experiment_name (str): Name of experiment.\n",
    "        model_name (str): Name of model.\n",
    "        extra (str, optional): Anything extra to add to the directory. Defaults to None.\n",
    "\n",
    "    Returns:\n",
    "        torch.utils.tensorboard.writer.SummaryWriter(): Instance of a writer saving to log_dir.\n",
    "\n",
    "    Example usage:\n",
    "        # Create a writer saving to \"runs/2022-06-04/data_10_percent/effnetb2/5_epochs/\"\n",
    "        writer = create_writer(experiment_name=\"data_10_percent\",\n",
    "                               model_name=\"effnetb2\",\n",
    "                               extra=\"5_epochs\")\n",
    "        # The above is the same as:\n",
    "        writer = SummaryWriter(log_dir=\"runs/2022-06-04/data_10_percent/effnetb2/5_epochs/\")\n",
    "    \"\"\"\n",
    "    from datetime import datetime\n",
    "    import os\n",
    "\n",
    "    # Get timestamp of current date (all experiments on certain day live in same folder)\n",
    "    timestamp = datetime.now().strftime(\"%Y-%m-%d\") # returns current date in YYYY-MM-DD format\n",
    "\n",
    "    if extra:\n",
    "        # Create log directory path\n",
    "        log_dir = os.path.join(\"runs\", timestamp, experiment_name, model_name, extra)\n",
    "    else:\n",
    "        log_dir = os.path.join(\"runs\", timestamp, experiment_name, model_name)\n",
    "        \n",
    "    print(f\"[INFO] Created SummaryWriter, saving to: {log_dir}...\")\n",
    "    return SummaryWriter(log_dir=log_dir)"
   ]
  },
  {
   "cell_type": "code",
   "execution_count": 5,
   "metadata": {},
   "outputs": [
    {
     "name": "stdout",
     "output_type": "stream",
     "text": [
      "[INFO] Created SummaryWriter, saving to: runs\\2024-07-25\\test_experiment_name\\this_is_the_model_name\\add_a_little_extra_if_you_want...\n"
     ]
    }
   ],
   "source": [
    "# Create a test writer\n",
    "writer = create_writer(experiment_name=\"test_experiment_name\",\n",
    "                       model_name=\"this_is_the_model_name\",\n",
    "                       extra=\"add_a_little_extra_if_you_want\")"
   ]
  },
  {
   "cell_type": "code",
   "execution_count": 6,
   "metadata": {},
   "outputs": [],
   "source": [
    "from going_modular.engine import train_step, test_step\n",
    "from typing import Dict, List\n",
    "from tqdm.auto import tqdm\n",
    "\n",
    "# Add writer parameter to train() python script\n",
    "def train(model: torch.nn.Module, \n",
    "          train_dataloader: torch.utils.data.DataLoader, \n",
    "          test_dataloader: torch.utils.data.DataLoader, \n",
    "          optimizer: torch.optim.Optimizer,\n",
    "          loss_fn: torch.nn.Module,\n",
    "          epochs: int,\n",
    "          device: torch.device, \n",
    "          writer: torch.utils.tensorboard.writer.SummaryWriter # new parameter to take in a writer\n",
    "          ) -> Dict[str, List]:\n",
    "    \"\"\"Trains and tests a PyTorch model.\n",
    "\n",
    "    Passes a target PyTorch models through train_step() and test_step()\n",
    "    functions for a number of epochs, training and testing the model\n",
    "    in the same epoch loop.\n",
    "\n",
    "    Calculates, prints and stores evaluation metrics throughout.\n",
    "\n",
    "    Stores metrics to specified writer log_dir if present.\n",
    "\n",
    "    Args:\n",
    "      model: A PyTorch model to be trained and tested.\n",
    "      train_dataloader: A DataLoader instance for the model to be trained on.\n",
    "      test_dataloader: A DataLoader instance for the model to be tested on.\n",
    "      optimizer: A PyTorch optimizer to help minimize the loss function.\n",
    "      loss_fn: A PyTorch loss function to calculate loss on both datasets.\n",
    "      epochs: An integer indicating how many epochs to train for.\n",
    "      device: A target device to compute on (e.g. \"cuda\" or \"cpu\").\n",
    "      writer: A SummaryWriter() instance to log model results to.\n",
    "\n",
    "    Returns:\n",
    "      A dictionary of training and testing loss as well as training and\n",
    "      testing accuracy metrics. Each metric has a value in a list for \n",
    "      each epoch.\n",
    "      In the form: {train_loss: [...],\n",
    "                train_acc: [...],\n",
    "                test_loss: [...],\n",
    "                test_acc: [...]} \n",
    "      For example if training for epochs=2: \n",
    "              {train_loss: [2.0616, 1.0537],\n",
    "                train_acc: [0.3945, 0.3945],\n",
    "                test_loss: [1.2641, 1.5706],\n",
    "                test_acc: [0.3400, 0.2973]} \n",
    "    \"\"\"\n",
    "    # Create empty results dictionary\n",
    "    results = {\"train_loss\": [],\n",
    "               \"train_acc\": [],\n",
    "               \"test_loss\": [],\n",
    "               \"test_acc\": []\n",
    "    }\n",
    "\n",
    "    # Loop through training and testing steps for a number of epochs\n",
    "    for epoch in tqdm(range(epochs)):\n",
    "        train_loss, train_acc = train_step(model=model,\n",
    "                                          dataloader=train_dataloader,\n",
    "                                          loss_fn=loss_fn,\n",
    "                                          optimizer=optimizer,\n",
    "                                          device=device)\n",
    "        test_loss, test_acc = test_step(model=model,\n",
    "          dataloader=test_dataloader,\n",
    "          loss_fn=loss_fn,\n",
    "          device=device)\n",
    "\n",
    "        # Print out what's happening\n",
    "        print(\n",
    "          f\"Epoch: {epoch+1} | \"\n",
    "          f\"train_loss: {train_loss:.4f} | \"\n",
    "          f\"train_acc: {train_acc:.4f} | \"\n",
    "          f\"test_loss: {test_loss:.4f} | \"\n",
    "          f\"test_acc: {test_acc:.4f}\"\n",
    "        )\n",
    "\n",
    "        # Update results dictionary\n",
    "        results[\"train_loss\"].append(train_loss)\n",
    "        results[\"train_acc\"].append(train_acc)\n",
    "        results[\"test_loss\"].append(test_loss)\n",
    "        results[\"test_acc\"].append(test_acc)\n",
    "\n",
    "\n",
    "        ### New: Use the writer parameter to track experiments ###\n",
    "        # See if there's a writer, if so, log to it\n",
    "        if writer:\n",
    "            # Add results to SummaryWriter\n",
    "            writer.add_scalars(main_tag=\"Loss\", \n",
    "                               tag_scalar_dict={\"train_loss\": train_loss,\n",
    "                                                \"test_loss\": test_loss},\n",
    "                               global_step=epoch)\n",
    "            writer.add_scalars(main_tag=\"Accuracy\", \n",
    "                               tag_scalar_dict={\"train_acc\": train_acc,\n",
    "                                                \"test_acc\": test_acc}, \n",
    "                               global_step=epoch)\n",
    "\n",
    "            # Close the writer\n",
    "            writer.close()\n",
    "        else:\n",
    "            pass\n",
    "    ### End new ###\n",
    "\n",
    "    # Return the filled results at the end of the epochs\n",
    "    return results"
   ]
  },
  {
   "cell_type": "code",
   "execution_count": 7,
   "metadata": {},
   "outputs": [
    {
     "name": "stdout",
     "output_type": "stream",
     "text": [
      "[INFO] data\\pizza_steak_sushi directory exists, skipping download.\n",
      "[INFO] data\\pizza_steak_sushi_20_percent directory exists, skipping download.\n"
     ]
    }
   ],
   "source": [
    "# Download 10 percent and 20 percent training data (if necessary)\n",
    "data_10_percent_path = download_data(source=\"https://github.com/mrdbourke/pytorch-deep-learning/raw/main/data/pizza_steak_sushi.zip\",\n",
    "                                     destination=\"pizza_steak_sushi\")\n",
    "\n",
    "data_20_percent_path = download_data(source=\"https://github.com/mrdbourke/pytorch-deep-learning/raw/main/data/pizza_steak_sushi_20_percent.zip\",\n",
    "                                     destination=\"pizza_steak_sushi_20_percent\")"
   ]
  },
  {
   "cell_type": "code",
   "execution_count": 8,
   "metadata": {},
   "outputs": [
    {
     "name": "stdout",
     "output_type": "stream",
     "text": [
      "Training directory 10%: data\\pizza_steak_sushi\\train\n",
      "Training directory 20%: data\\pizza_steak_sushi_20_percent\\train\n",
      "Testing directory: data\\pizza_steak_sushi\\test\n"
     ]
    }
   ],
   "source": [
    "# Setup training directory paths\n",
    "train_dir_10_percent = data_10_percent_path / \"train\"\n",
    "train_dir_20_percent = data_20_percent_path / \"train\"\n",
    "\n",
    "# Setup testing directory paths (note: use the same test dataset for both to compare the results)\n",
    "test_dir = data_10_percent_path / \"test\"\n",
    "\n",
    "# Check the directories\n",
    "print(f\"Training directory 10%: {train_dir_10_percent}\")\n",
    "print(f\"Training directory 20%: {train_dir_20_percent}\")\n",
    "print(f\"Testing directory: {test_dir}\")"
   ]
  },
  {
   "cell_type": "code",
   "execution_count": 9,
   "metadata": {},
   "outputs": [],
   "source": [
    "from torchvision import transforms\n",
    "\n",
    "# Create a transform to normalize data distrribution to be inline with ImageNet\n",
    "normalize = transforms.Normalize(mean=[0.485, 0.456, 0.406], # values per colour channel [red, green, blue]\n",
    "                                 std=[0.229, 0.224, 0.225])\n",
    "\n",
    "# create a pipeline\n",
    "simple_transform = transforms.Compose([\n",
    "    transforms.Resize(size=(224,224)), # this value can be anything you want\n",
    "    transforms.ToTensor(), # get image values between 0 and 1\n",
    "    normalize\n",
    "])"
   ]
  },
  {
   "cell_type": "markdown",
   "metadata": {},
   "source": [
    "#### Turn Dataset into DataLoaders"
   ]
  },
  {
   "cell_type": "code",
   "execution_count": 10,
   "metadata": {},
   "outputs": [],
   "source": [
    "from going_modular import data_setup"
   ]
  },
  {
   "cell_type": "code",
   "execution_count": 11,
   "metadata": {},
   "outputs": [
    {
     "name": "stdout",
     "output_type": "stream",
     "text": [
      "Number of batches of size 32 in 10 percent training data: 8\n",
      "Number of batches of size 32 in 20 percent training data: 15\n",
      "Number of batches of size 32 in testing data: 8 (all experiments will use the same test set)\n",
      "Number of classes: 3, class names: ['pizza', 'steak', 'sushi']\n"
     ]
    }
   ],
   "source": [
    "BATCH_SIZE = 32\n",
    "# Create a 10% percent training and test dataloaders\n",
    "train_dataloader_10_percent, test_dataloader, class_names = data_setup.create_dataloaders(\n",
    "    train_dir=train_dir_10_percent,\n",
    "    test_dir=test_dir,\n",
    "    transform=simple_transform,\n",
    "    batch_size=BATCH_SIZE,\n",
    "    num_workers=1\n",
    ")\n",
    "# Create 1 20% percent traing and testing dataloaders\n",
    "train_dataloader_20_percent, test_dataloader, class_names = data_setup.create_dataloaders(\n",
    "    train_dir=train_dir_20_percent,\n",
    "    test_dir=test_dir,\n",
    "    transform=simple_transform,\n",
    "    batch_size=BATCH_SIZE,\n",
    "    num_workers=1\n",
    ")\n",
    "\n",
    "# Find the number of samples/batches per dataloader (using the same test_dataloader for both experiments)\n",
    "print(f\"Number of batches of size {BATCH_SIZE} in 10 percent training data: {len(train_dataloader_10_percent)}\")\n",
    "print(f\"Number of batches of size {BATCH_SIZE} in 20 percent training data: {len(train_dataloader_20_percent)}\")\n",
    "print(f\"Number of batches of size {BATCH_SIZE} in testing data: {len(train_dataloader_10_percent)} (all experiments will use the same test set)\")\n",
    "print(f\"Number of classes: {len(class_names)}, class names: {class_names}\")"
   ]
  },
  {
   "cell_type": "markdown",
   "metadata": {},
   "source": [
    "### 2: Pick a larger model from torchvision.models to add to the list of experiments (for example, EffNetB3 or higher)\n",
    "* How does it perform compared to our existing models?\n",
    "* Hint: You'll need to set up an exerpiment similar to 07. [PyTorch Experiment Tracking section](https://www.learnpytorch.io/07_pytorch_experiment_tracking/#76-create-experiments-and-set-up-training-code) 7.6.\n",
    "* lets try Efficient V2 small model\n",
    "* Previously we had b2 which had 9million parameters now -> 21Million Parameters"
   ]
  },
  {
   "cell_type": "markdown",
   "metadata": {},
   "source": [
    "Create Models"
   ]
  },
  {
   "cell_type": "code",
   "execution_count": 14,
   "metadata": {},
   "outputs": [],
   "source": [
    "# create a new effnet v2 small model\n",
    "from torchvision import models\n",
    "effnetv2_s_weights = models.EfficientNet_V2_S_Weights.DEFAULT\n",
    "effnetv2_s = models.efficientnet_v2_s(weights=effnetv2_s_weights).to(device)\n",
    "#effnetv2_s"
   ]
  },
  {
   "cell_type": "code",
   "execution_count": 15,
   "metadata": {},
   "outputs": [
    {
     "data": {
      "text/plain": [
       "=========================================================================================================\n",
       "Layer (type:depth-idx)                                  Output Shape              Param #\n",
       "=========================================================================================================\n",
       "EfficientNet                                            [1, 1000]                 --\n",
       "├─Sequential: 1-1                                       [1, 1280, 7, 7]           --\n",
       "│    └─Conv2dNormActivation: 2-1                        [1, 24, 112, 112]         --\n",
       "│    │    └─Conv2d: 3-1                                 [1, 24, 112, 112]         648\n",
       "│    │    └─BatchNorm2d: 3-2                            [1, 24, 112, 112]         48\n",
       "│    │    └─SiLU: 3-3                                   [1, 24, 112, 112]         --\n",
       "│    └─Sequential: 2-2                                  [1, 24, 112, 112]         --\n",
       "│    │    └─FusedMBConv: 3-4                            [1, 24, 112, 112]         5,232\n",
       "│    │    └─FusedMBConv: 3-5                            [1, 24, 112, 112]         5,232\n",
       "│    └─Sequential: 2-3                                  [1, 48, 56, 56]           --\n",
       "│    │    └─FusedMBConv: 3-6                            [1, 48, 56, 56]           25,632\n",
       "│    │    └─FusedMBConv: 3-7                            [1, 48, 56, 56]           92,640\n",
       "│    │    └─FusedMBConv: 3-8                            [1, 48, 56, 56]           92,640\n",
       "│    │    └─FusedMBConv: 3-9                            [1, 48, 56, 56]           92,640\n",
       "│    └─Sequential: 2-4                                  [1, 64, 28, 28]           --\n",
       "│    │    └─FusedMBConv: 3-10                           [1, 64, 28, 28]           95,744\n",
       "│    │    └─FusedMBConv: 3-11                           [1, 64, 28, 28]           164,480\n",
       "│    │    └─FusedMBConv: 3-12                           [1, 64, 28, 28]           164,480\n",
       "│    │    └─FusedMBConv: 3-13                           [1, 64, 28, 28]           164,480\n",
       "│    └─Sequential: 2-5                                  [1, 128, 14, 14]          --\n",
       "│    │    └─MBConv: 3-14                                [1, 128, 14, 14]          61,200\n",
       "│    │    └─MBConv: 3-15                                [1, 128, 14, 14]          171,296\n",
       "│    │    └─MBConv: 3-16                                [1, 128, 14, 14]          171,296\n",
       "│    │    └─MBConv: 3-17                                [1, 128, 14, 14]          171,296\n",
       "│    │    └─MBConv: 3-18                                [1, 128, 14, 14]          171,296\n",
       "│    │    └─MBConv: 3-19                                [1, 128, 14, 14]          171,296\n",
       "│    └─Sequential: 2-6                                  [1, 160, 14, 14]          --\n",
       "│    │    └─MBConv: 3-20                                [1, 160, 14, 14]          281,440\n",
       "│    │    └─MBConv: 3-21                                [1, 160, 14, 14]          397,800\n",
       "│    │    └─MBConv: 3-22                                [1, 160, 14, 14]          397,800\n",
       "│    │    └─MBConv: 3-23                                [1, 160, 14, 14]          397,800\n",
       "│    │    └─MBConv: 3-24                                [1, 160, 14, 14]          397,800\n",
       "│    │    └─MBConv: 3-25                                [1, 160, 14, 14]          397,800\n",
       "│    │    └─MBConv: 3-26                                [1, 160, 14, 14]          397,800\n",
       "│    │    └─MBConv: 3-27                                [1, 160, 14, 14]          397,800\n",
       "│    │    └─MBConv: 3-28                                [1, 160, 14, 14]          397,800\n",
       "│    └─Sequential: 2-7                                  [1, 256, 7, 7]            --\n",
       "│    │    └─MBConv: 3-29                                [1, 256, 7, 7]            490,152\n",
       "│    │    └─MBConv: 3-30                                [1, 256, 7, 7]            1,005,120\n",
       "│    │    └─MBConv: 3-31                                [1, 256, 7, 7]            1,005,120\n",
       "│    │    └─MBConv: 3-32                                [1, 256, 7, 7]            1,005,120\n",
       "│    │    └─MBConv: 3-33                                [1, 256, 7, 7]            1,005,120\n",
       "│    │    └─MBConv: 3-34                                [1, 256, 7, 7]            1,005,120\n",
       "│    │    └─MBConv: 3-35                                [1, 256, 7, 7]            1,005,120\n",
       "│    │    └─MBConv: 3-36                                [1, 256, 7, 7]            1,005,120\n",
       "│    │    └─MBConv: 3-37                                [1, 256, 7, 7]            1,005,120\n",
       "│    │    └─MBConv: 3-38                                [1, 256, 7, 7]            1,005,120\n",
       "│    │    └─MBConv: 3-39                                [1, 256, 7, 7]            1,005,120\n",
       "│    │    └─MBConv: 3-40                                [1, 256, 7, 7]            1,005,120\n",
       "│    │    └─MBConv: 3-41                                [1, 256, 7, 7]            1,005,120\n",
       "│    │    └─MBConv: 3-42                                [1, 256, 7, 7]            1,005,120\n",
       "│    │    └─MBConv: 3-43                                [1, 256, 7, 7]            1,005,120\n",
       "│    └─Conv2dNormActivation: 2-8                        [1, 1280, 7, 7]           --\n",
       "│    │    └─Conv2d: 3-44                                [1, 1280, 7, 7]           327,680\n",
       "│    │    └─BatchNorm2d: 3-45                           [1, 1280, 7, 7]           2,560\n",
       "│    │    └─SiLU: 3-46                                  [1, 1280, 7, 7]           --\n",
       "├─AdaptiveAvgPool2d: 1-2                                [1, 1280, 1, 1]           --\n",
       "├─Sequential: 1-3                                       [1, 1000]                 --\n",
       "│    └─Dropout: 2-9                                     [1, 1280]                 --\n",
       "│    └─Linear: 2-10                                     [1, 1000]                 1,281,000\n",
       "=========================================================================================================\n",
       "Total params: 21,458,488\n",
       "Trainable params: 21,458,488\n",
       "Non-trainable params: 0\n",
       "Total mult-adds (G): 2.85\n",
       "=========================================================================================================\n",
       "Input size (MB): 0.60\n",
       "Forward/backward pass size (MB): 194.82\n",
       "Params size (MB): 85.83\n",
       "Estimated Total Size (MB): 281.26\n",
       "========================================================================================================="
      ]
     },
     "execution_count": 15,
     "metadata": {},
     "output_type": "execute_result"
    }
   ],
   "source": [
    "from torchinfo import summary\n",
    "\n",
    "summary(effnetv2_s, input_size=(1,3,224,224))"
   ]
  },
  {
   "cell_type": "code",
   "execution_count": 43,
   "metadata": {},
   "outputs": [],
   "source": [
    "# Let us now functionize the model selection\n",
    "import torchvision\n",
    "from torch import nn\n",
    "\n",
    "def create_model(model_name: str,\n",
    "                 out_features: int=3,\n",
    "                 device: str=device):\n",
    "    assert model_name == \"effnetb2\" or model_name == \"effnetv2_s\", \"Model name should be effnetb2 or effnetv2_s\"\n",
    "    if model_name == \"effnetb2\":\n",
    "        weights = torchvision.models.EfficientNet_B2_Weights.DEFAULT\n",
    "        model = torchvision.models.efficientnet_b2(weights=weights).to(device)\n",
    "        dropout = 0.3\n",
    "        in_features = 1408\n",
    "    elif model_name == \"effnetv2_s\":\n",
    "        weights = torchvision.models.EfficientNet_V2_S_Weights.DEFAULT\n",
    "        model = torchvision.models.efficientnet_v2_s(weights=weights).to(device)\n",
    "        dropout = 0.2\n",
    "        in_features = 1280\n",
    "\n",
    "    # Freeze the base layer of the models\n",
    "    for param in model.parameters():\n",
    "        param.requires_grad = False\n",
    "\n",
    "    # Update the classifier head\n",
    "    model.classifier = nn.Sequential(\n",
    "        nn.Dropout(p=dropout, inplace=True),\n",
    "        nn.Linear(in_features=in_features,out_features=out_features)\n",
    "    ).to(device)\n",
    "\n",
    "    # set the model name\n",
    "    model.name = model_name\n",
    "    print(f\"[INFO] Creating {model_name} feature extractor model...\")\n",
    "    return model"
   ]
  },
  {
   "cell_type": "code",
   "execution_count": 36,
   "metadata": {},
   "outputs": [
    {
     "name": "stdout",
     "output_type": "stream",
     "text": [
      "[INFO] Creating effnetb2 feature extractor model...\n"
     ]
    }
   ],
   "source": [
    "effnetb2 = create_model(model_name=\"effnetb2\",\n",
    "                        out_features=len(class_names))"
   ]
  },
  {
   "cell_type": "markdown",
   "metadata": {},
   "source": [
    "#### 7.6 Setup modeling experiments\n",
    "going to use similar code for our modeling experiments, mainly want to substitue effnetb2 experiments with effnetv2_s in its place"
   ]
  },
  {
   "cell_type": "code",
   "execution_count": 40,
   "metadata": {},
   "outputs": [],
   "source": [
    "# create expoch list\n",
    "num_epochs = [5, 10]\n",
    "\n",
    "# Create a model list\n",
    "models = [\"effnetb2\", \"effnetv2_s\"]\n",
    "\n",
    "# 3. Create dataloaders dictionary for various dataloaders\n",
    "train_dataloaders = {\"data_10_percent\": train_dataloader_10_percent,\n",
    "                     \"data_20_percent\": train_dataloader_20_percent}"
   ]
  },
  {
   "cell_type": "code",
   "execution_count": 41,
   "metadata": {},
   "outputs": [
    {
     "name": "stdout",
     "output_type": "stream",
     "text": [
      "[INFO] Experiment number: 1\n",
      "[INFO] Model: effnetb2\n",
      "[INFO] DataLoader: data_10_percent\n",
      "[INFO] Number of epochs: 5\n",
      "[INFO] Creating effnetb2 feature extractor model...\n",
      "[INFO] Created SummaryWriter, saving to: runs\\2024-07-25\\data_10_percent\\effnetb2\\5_epochs...\n"
     ]
    },
    {
     "data": {
      "application/vnd.jupyter.widget-view+json": {
       "model_id": "74b378eedeeb4d09b158c9cb3b8fa44f",
       "version_major": 2,
       "version_minor": 0
      },
      "text/plain": [
       "  0%|          | 0/5 [00:00<?, ?it/s]"
      ]
     },
     "metadata": {},
     "output_type": "display_data"
    },
    {
     "name": "stdout",
     "output_type": "stream",
     "text": [
      "Epoch: 1 | train_loss: 0.9769 | train_acc: 0.5664 | test_loss: 0.9518 | test_acc: 0.6506\n",
      "Epoch: 2 | train_loss: 0.8197 | train_acc: 0.7500 | test_loss: 0.8587 | test_acc: 0.7642\n",
      "Epoch: 3 | train_loss: 0.7843 | train_acc: 0.6562 | test_loss: 0.8006 | test_acc: 0.7652\n",
      "Epoch: 4 | train_loss: 0.6700 | train_acc: 0.7695 | test_loss: 0.6917 | test_acc: 0.8769\n",
      "Epoch: 5 | train_loss: 0.5779 | train_acc: 0.9375 | test_loss: 0.6938 | test_acc: 0.8466\n",
      "[INFO] Saving model to: models\\07_effnetb2_data_10_percent_5_epochs.pth\n",
      "--------------------------------------------------\n",
      "\n",
      "[INFO] Experiment number: 2\n",
      "[INFO] Model: effnetv2_s\n",
      "[INFO] DataLoader: data_10_percent\n",
      "[INFO] Number of epochs: 5\n",
      "[INFO] Creating effnetv2_s feature extractor model...\n",
      "[INFO] Created SummaryWriter, saving to: runs\\2024-07-25\\data_10_percent\\effnetv2_s\\5_epochs...\n"
     ]
    },
    {
     "data": {
      "application/vnd.jupyter.widget-view+json": {
       "model_id": "5e2e6c75e3dc4ab8b0ca9f0725762129",
       "version_major": 2,
       "version_minor": 0
      },
      "text/plain": [
       "  0%|          | 0/5 [00:00<?, ?it/s]"
      ]
     },
     "metadata": {},
     "output_type": "display_data"
    },
    {
     "name": "stdout",
     "output_type": "stream",
     "text": [
      "Epoch: 1 | train_loss: 1.0748 | train_acc: 0.5117 | test_loss: 0.9611 | test_acc: 0.6610\n",
      "Epoch: 2 | train_loss: 0.9070 | train_acc: 0.7734 | test_loss: 0.8526 | test_acc: 0.7841\n",
      "Epoch: 3 | train_loss: 0.7913 | train_acc: 0.8125 | test_loss: 0.7428 | test_acc: 0.8049\n",
      "Epoch: 4 | train_loss: 0.7166 | train_acc: 0.8438 | test_loss: 0.6590 | test_acc: 0.8759\n",
      "Epoch: 5 | train_loss: 0.6821 | train_acc: 0.7305 | test_loss: 0.5922 | test_acc: 0.9167\n",
      "[INFO] Saving model to: models\\07_effnetv2_s_data_10_percent_5_epochs.pth\n",
      "--------------------------------------------------\n",
      "\n",
      "[INFO] Experiment number: 3\n",
      "[INFO] Model: effnetb2\n",
      "[INFO] DataLoader: data_10_percent\n",
      "[INFO] Number of epochs: 10\n",
      "[INFO] Creating effnetb2 feature extractor model...\n",
      "[INFO] Created SummaryWriter, saving to: runs\\2024-07-25\\data_10_percent\\effnetb2\\10_epochs...\n"
     ]
    },
    {
     "data": {
      "application/vnd.jupyter.widget-view+json": {
       "model_id": "3dcfc0f2f4404201805a99de702a63f5",
       "version_major": 2,
       "version_minor": 0
      },
      "text/plain": [
       "  0%|          | 0/10 [00:00<?, ?it/s]"
      ]
     },
     "metadata": {},
     "output_type": "display_data"
    },
    {
     "name": "stdout",
     "output_type": "stream",
     "text": [
      "Epoch: 1 | train_loss: 1.0627 | train_acc: 0.3945 | test_loss: 0.9716 | test_acc: 0.6307\n",
      "Epoch: 2 | train_loss: 0.9210 | train_acc: 0.5469 | test_loss: 0.8843 | test_acc: 0.7140\n",
      "Epoch: 3 | train_loss: 0.8103 | train_acc: 0.6641 | test_loss: 0.7308 | test_acc: 0.8456\n",
      "Epoch: 4 | train_loss: 0.7278 | train_acc: 0.7500 | test_loss: 0.7024 | test_acc: 0.8873\n",
      "Epoch: 5 | train_loss: 0.6134 | train_acc: 0.9258 | test_loss: 0.6872 | test_acc: 0.8674\n",
      "Epoch: 6 | train_loss: 0.5564 | train_acc: 0.9102 | test_loss: 0.6660 | test_acc: 0.8570\n",
      "Epoch: 7 | train_loss: 0.6343 | train_acc: 0.7539 | test_loss: 0.6240 | test_acc: 0.8561\n",
      "Epoch: 8 | train_loss: 0.5207 | train_acc: 0.9336 | test_loss: 0.5642 | test_acc: 0.9081\n",
      "Epoch: 9 | train_loss: 0.4950 | train_acc: 0.8125 | test_loss: 0.5422 | test_acc: 0.9081\n",
      "Epoch: 10 | train_loss: 0.5095 | train_acc: 0.8008 | test_loss: 0.5203 | test_acc: 0.9081\n",
      "[INFO] Saving model to: models\\07_effnetb2_data_10_percent_10_epochs.pth\n",
      "--------------------------------------------------\n",
      "\n",
      "[INFO] Experiment number: 4\n",
      "[INFO] Model: effnetv2_s\n",
      "[INFO] DataLoader: data_10_percent\n",
      "[INFO] Number of epochs: 10\n",
      "[INFO] Creating effnetv2_s feature extractor model...\n",
      "[INFO] Created SummaryWriter, saving to: runs\\2024-07-25\\data_10_percent\\effnetv2_s\\10_epochs...\n"
     ]
    },
    {
     "data": {
      "application/vnd.jupyter.widget-view+json": {
       "model_id": "5c0012d0ff04496aa1868a50783751ea",
       "version_major": 2,
       "version_minor": 0
      },
      "text/plain": [
       "  0%|          | 0/10 [00:00<?, ?it/s]"
      ]
     },
     "metadata": {},
     "output_type": "display_data"
    },
    {
     "name": "stdout",
     "output_type": "stream",
     "text": [
      "Epoch: 1 | train_loss: 1.0336 | train_acc: 0.5742 | test_loss: 0.9641 | test_acc: 0.6222\n",
      "Epoch: 2 | train_loss: 0.9134 | train_acc: 0.6133 | test_loss: 0.8442 | test_acc: 0.7140\n",
      "Epoch: 3 | train_loss: 0.7768 | train_acc: 0.7227 | test_loss: 0.7572 | test_acc: 0.7945\n",
      "Epoch: 4 | train_loss: 0.7186 | train_acc: 0.7578 | test_loss: 0.6514 | test_acc: 0.8456\n",
      "Epoch: 5 | train_loss: 0.6578 | train_acc: 0.7539 | test_loss: 0.6402 | test_acc: 0.7841\n",
      "Epoch: 6 | train_loss: 0.6349 | train_acc: 0.7617 | test_loss: 0.6232 | test_acc: 0.8144\n",
      "Epoch: 7 | train_loss: 0.5608 | train_acc: 0.8164 | test_loss: 0.5497 | test_acc: 0.8456\n",
      "Epoch: 8 | train_loss: 0.5514 | train_acc: 0.7852 | test_loss: 0.5586 | test_acc: 0.8049\n",
      "Epoch: 9 | train_loss: 0.5001 | train_acc: 0.9336 | test_loss: 0.5295 | test_acc: 0.8248\n",
      "Epoch: 10 | train_loss: 0.5286 | train_acc: 0.7734 | test_loss: 0.5235 | test_acc: 0.8759\n",
      "[INFO] Saving model to: models\\07_effnetv2_s_data_10_percent_10_epochs.pth\n",
      "--------------------------------------------------\n",
      "\n",
      "[INFO] Experiment number: 5\n",
      "[INFO] Model: effnetb2\n",
      "[INFO] DataLoader: data_20_percent\n",
      "[INFO] Number of epochs: 5\n",
      "[INFO] Creating effnetb2 feature extractor model...\n",
      "[INFO] Created SummaryWriter, saving to: runs\\2024-07-25\\data_20_percent\\effnetb2\\5_epochs...\n"
     ]
    },
    {
     "data": {
      "application/vnd.jupyter.widget-view+json": {
       "model_id": "1a66d6fde508452099e9869674deed99",
       "version_major": 2,
       "version_minor": 0
      },
      "text/plain": [
       "  0%|          | 0/5 [00:00<?, ?it/s]"
      ]
     },
     "metadata": {},
     "output_type": "display_data"
    },
    {
     "name": "stdout",
     "output_type": "stream",
     "text": [
      "Epoch: 1 | train_loss: 0.9789 | train_acc: 0.5583 | test_loss: 0.7780 | test_acc: 0.8864\n",
      "Epoch: 2 | train_loss: 0.7419 | train_acc: 0.7354 | test_loss: 0.6894 | test_acc: 0.9072\n",
      "Epoch: 3 | train_loss: 0.6114 | train_acc: 0.8292 | test_loss: 0.5558 | test_acc: 0.9280\n",
      "Epoch: 4 | train_loss: 0.5637 | train_acc: 0.8750 | test_loss: 0.5324 | test_acc: 0.9384\n",
      "Epoch: 5 | train_loss: 0.5078 | train_acc: 0.8625 | test_loss: 0.5254 | test_acc: 0.8873\n",
      "[INFO] Saving model to: models\\07_effnetb2_data_20_percent_5_epochs.pth\n",
      "--------------------------------------------------\n",
      "\n",
      "[INFO] Experiment number: 6\n",
      "[INFO] Model: effnetv2_s\n",
      "[INFO] DataLoader: data_20_percent\n",
      "[INFO] Number of epochs: 5\n",
      "[INFO] Creating effnetv2_s feature extractor model...\n",
      "[INFO] Created SummaryWriter, saving to: runs\\2024-07-25\\data_20_percent\\effnetv2_s\\5_epochs...\n"
     ]
    },
    {
     "data": {
      "application/vnd.jupyter.widget-view+json": {
       "model_id": "2affb63899024806b1e280cc224a1623",
       "version_major": 2,
       "version_minor": 0
      },
      "text/plain": [
       "  0%|          | 0/5 [00:00<?, ?it/s]"
      ]
     },
     "metadata": {},
     "output_type": "display_data"
    },
    {
     "name": "stdout",
     "output_type": "stream",
     "text": [
      "Epoch: 1 | train_loss: 0.9758 | train_acc: 0.5646 | test_loss: 0.7829 | test_acc: 0.8447\n",
      "Epoch: 2 | train_loss: 0.7440 | train_acc: 0.7750 | test_loss: 0.6040 | test_acc: 0.8456\n",
      "Epoch: 3 | train_loss: 0.6549 | train_acc: 0.7688 | test_loss: 0.5274 | test_acc: 0.8968\n",
      "Epoch: 4 | train_loss: 0.5295 | train_acc: 0.8583 | test_loss: 0.4737 | test_acc: 0.9072\n",
      "Epoch: 5 | train_loss: 0.5197 | train_acc: 0.8479 | test_loss: 0.4279 | test_acc: 0.9176\n",
      "[INFO] Saving model to: models\\07_effnetv2_s_data_20_percent_5_epochs.pth\n",
      "--------------------------------------------------\n",
      "\n",
      "[INFO] Experiment number: 7\n",
      "[INFO] Model: effnetb2\n",
      "[INFO] DataLoader: data_20_percent\n",
      "[INFO] Number of epochs: 10\n",
      "[INFO] Creating effnetb2 feature extractor model...\n",
      "[INFO] Created SummaryWriter, saving to: runs\\2024-07-25\\data_20_percent\\effnetb2\\10_epochs...\n"
     ]
    },
    {
     "data": {
      "application/vnd.jupyter.widget-view+json": {
       "model_id": "cbec9a1a7a224dfd8a6861e54923a0c6",
       "version_major": 2,
       "version_minor": 0
      },
      "text/plain": [
       "  0%|          | 0/10 [00:00<?, ?it/s]"
      ]
     },
     "metadata": {},
     "output_type": "display_data"
    },
    {
     "name": "stdout",
     "output_type": "stream",
     "text": [
      "Epoch: 1 | train_loss: 1.0500 | train_acc: 0.4833 | test_loss: 0.8685 | test_acc: 0.8049\n",
      "Epoch: 2 | train_loss: 0.8057 | train_acc: 0.7542 | test_loss: 0.7280 | test_acc: 0.8561\n",
      "Epoch: 3 | train_loss: 0.6681 | train_acc: 0.8313 | test_loss: 0.6332 | test_acc: 0.8769\n",
      "Epoch: 4 | train_loss: 0.6244 | train_acc: 0.7917 | test_loss: 0.5741 | test_acc: 0.8769\n",
      "Epoch: 5 | train_loss: 0.4802 | train_acc: 0.9021 | test_loss: 0.5360 | test_acc: 0.8864\n",
      "Epoch: 6 | train_loss: 0.4557 | train_acc: 0.8667 | test_loss: 0.5209 | test_acc: 0.8570\n",
      "Epoch: 7 | train_loss: 0.4224 | train_acc: 0.9104 | test_loss: 0.4260 | test_acc: 0.9384\n",
      "Epoch: 8 | train_loss: 0.3975 | train_acc: 0.8833 | test_loss: 0.4740 | test_acc: 0.8570\n",
      "Epoch: 9 | train_loss: 0.3753 | train_acc: 0.8833 | test_loss: 0.4178 | test_acc: 0.9176\n",
      "Epoch: 10 | train_loss: 0.3042 | train_acc: 0.9313 | test_loss: 0.3952 | test_acc: 0.9280\n",
      "[INFO] Saving model to: models\\07_effnetb2_data_20_percent_10_epochs.pth\n",
      "--------------------------------------------------\n",
      "\n",
      "[INFO] Experiment number: 8\n",
      "[INFO] Model: effnetv2_s\n",
      "[INFO] DataLoader: data_20_percent\n",
      "[INFO] Number of epochs: 10\n",
      "[INFO] Creating effnetv2_s feature extractor model...\n",
      "[INFO] Created SummaryWriter, saving to: runs\\2024-07-25\\data_20_percent\\effnetv2_s\\10_epochs...\n"
     ]
    },
    {
     "data": {
      "application/vnd.jupyter.widget-view+json": {
       "model_id": "da89acbe675a4bd0a49d3ecd86c5dd04",
       "version_major": 2,
       "version_minor": 0
      },
      "text/plain": [
       "  0%|          | 0/10 [00:00<?, ?it/s]"
      ]
     },
     "metadata": {},
     "output_type": "display_data"
    },
    {
     "name": "stdout",
     "output_type": "stream",
     "text": [
      "Epoch: 1 | train_loss: 0.9624 | train_acc: 0.6042 | test_loss: 0.7817 | test_acc: 0.7642\n",
      "Epoch: 2 | train_loss: 0.7040 | train_acc: 0.7979 | test_loss: 0.6269 | test_acc: 0.8864\n",
      "Epoch: 3 | train_loss: 0.6014 | train_acc: 0.8604 | test_loss: 0.5497 | test_acc: 0.8769\n",
      "Epoch: 4 | train_loss: 0.4973 | train_acc: 0.8688 | test_loss: 0.5028 | test_acc: 0.8674\n",
      "Epoch: 5 | train_loss: 0.5137 | train_acc: 0.8146 | test_loss: 0.4517 | test_acc: 0.9280\n",
      "Epoch: 6 | train_loss: 0.4527 | train_acc: 0.8792 | test_loss: 0.4208 | test_acc: 0.9176\n",
      "Epoch: 7 | train_loss: 0.4171 | train_acc: 0.8854 | test_loss: 0.4036 | test_acc: 0.9176\n",
      "Epoch: 8 | train_loss: 0.4263 | train_acc: 0.8708 | test_loss: 0.4136 | test_acc: 0.9072\n",
      "Epoch: 9 | train_loss: 0.3483 | train_acc: 0.8979 | test_loss: 0.3786 | test_acc: 0.8769\n",
      "Epoch: 10 | train_loss: 0.3481 | train_acc: 0.8896 | test_loss: 0.3662 | test_acc: 0.9280\n",
      "[INFO] Saving model to: models\\07_effnetv2_s_data_20_percent_10_epochs.pth\n",
      "--------------------------------------------------\n",
      "\n",
      "CPU times: total: 14.5 s\n",
      "Wall time: 5min 19s\n"
     ]
    }
   ],
   "source": [
    "%%time\n",
    "from going_modular.utils import save_model\n",
    "\n",
    "# 1. Set the random seeds\n",
    "set_seeds(seed=42)\n",
    "\n",
    "# 2. Keep track of experiment numbers\n",
    "experiment_number = 0\n",
    "\n",
    "# 3. Loop through each DataLoader\n",
    "for dataloader_name, train_dataloader in train_dataloaders.items():\n",
    "\n",
    "    # 4. Loop through each number of epochs\n",
    "    for epochs in num_epochs: \n",
    "\n",
    "        # 5. Loop through each model name and create a new model based on the name\n",
    "        for model_name in models:\n",
    "\n",
    "            # 6. Create information print outs\n",
    "            experiment_number += 1\n",
    "            print(f\"[INFO] Experiment number: {experiment_number}\")\n",
    "            print(f\"[INFO] Model: {model_name}\")\n",
    "            print(f\"[INFO] DataLoader: {dataloader_name}\")\n",
    "            print(f\"[INFO] Number of epochs: {epochs}\")  \n",
    "\n",
    "            # 7. Select the model\n",
    "            model = create_model(model_name=model_name,\n",
    "                                    out_features=len(class_names)) # Create a new model\n",
    "\n",
    "            # if model_name == \"effnetb2\":\n",
    "            #     model = create_effnetb0() # creates a new model each time (important because we want each experiment to start from scratch)\n",
    "            # elif model_name == \"effnetv2_s\":\n",
    "            #     model = create_effnetb2() # creates a new model each time (important because we want each experiment to start from scratch)\n",
    "            \n",
    "            # 8. Create a new loss and optimizer for every model\n",
    "            loss_fn = nn.CrossEntropyLoss()\n",
    "            optimizer = torch.optim.Adam(params=model.parameters(), lr=0.001)\n",
    "\n",
    "            # 9. Train target model with target dataloaders and track experiments\n",
    "            train(model=model,\n",
    "                  train_dataloader=train_dataloader,\n",
    "                  test_dataloader=test_dataloader, \n",
    "                  optimizer=optimizer,\n",
    "                  loss_fn=loss_fn,\n",
    "                  epochs=epochs,\n",
    "                  device=device,\n",
    "                  writer=create_writer(experiment_name=dataloader_name,\n",
    "                                       model_name=model_name,\n",
    "                                       extra=f\"{epochs}_epochs\"))\n",
    "            \n",
    "            # 10. Save the model to file so we can get back the best model\n",
    "            save_filepath = f\"07_{model_name}_{dataloader_name}_{epochs}_epochs.pth\"\n",
    "            save_model(model=model,\n",
    "                       target_dir=\"models\",\n",
    "                       model_name=save_filepath)\n",
    "            print(\"-\"*50 + \"\\n\")"
   ]
  },
  {
   "cell_type": "markdown",
   "metadata": {},
   "source": []
  }
 ],
 "metadata": {
  "kernelspec": {
   "display_name": "myenv",
   "language": "python",
   "name": "python3"
  },
  "language_info": {
   "codemirror_mode": {
    "name": "ipython",
    "version": 3
   },
   "file_extension": ".py",
   "mimetype": "text/x-python",
   "name": "python",
   "nbconvert_exporter": "python",
   "pygments_lexer": "ipython3",
   "version": "3.10.11"
  }
 },
 "nbformat": 4,
 "nbformat_minor": 2
}
