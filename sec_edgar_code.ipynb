{
 "cells": [
  {
   "cell_type": "code",
   "execution_count": 1,
   "metadata": {},
   "outputs": [],
   "source": [
    "# Libraries\n",
    "import requests\n",
    "import pandas as pd\n",
    "from pathlib import Path"
   ]
  },
  {
   "cell_type": "code",
   "execution_count": 2,
   "metadata": {},
   "outputs": [],
   "source": [
    "# Create request-headers\n",
    "headers = {'User-Agent':\"anupatil28@gmail.com\"}\n"
   ]
  },
  {
   "cell_type": "code",
   "execution_count": 3,
   "metadata": {},
   "outputs": [],
   "source": [
    "# Get json for company tickers\n",
    "companyTickers = requests.get(\"https://www.sec.gov/files/company_tickers.json\", headers=headers)"
   ]
  },
  {
   "cell_type": "code",
   "execution_count": 4,
   "metadata": {},
   "outputs": [],
   "source": [
    "# Convert the json to pandas dataframe\n",
    "companyData = pd.DataFrame(companyTickers.json()).T"
   ]
  },
  {
   "cell_type": "code",
   "execution_count": 5,
   "metadata": {},
   "outputs": [],
   "source": [
    "companyData[\"cik_str\"] = companyData[\"cik_str\"].astype(str).str.zfill(10)"
   ]
  },
  {
   "cell_type": "code",
   "execution_count": 6,
   "metadata": {},
   "outputs": [
    {
     "name": "stderr",
     "output_type": "stream",
     "text": [
      "C:\\Users\\PC\\AppData\\Local\\Temp\\ipykernel_4424\\3549573020.py:2: FutureWarning: Series.__getitem__ treating keys as positions is deprecated. In a future version, integer keys will always be treated as labels (consistent with DataFrame behavior). To access a value by position, use `ser.iloc[pos]`\n",
      "  cik = companyData[0:1].cik_str[0]\n"
     ]
    }
   ],
   "source": [
    "# get the cik value\n",
    "cik = companyData[0:1].cik_str[0]"
   ]
  },
  {
   "cell_type": "code",
   "execution_count": 7,
   "metadata": {},
   "outputs": [
    {
     "data": {
      "text/plain": [
       "'0000320193'"
      ]
     },
     "execution_count": 7,
     "metadata": {},
     "output_type": "execute_result"
    }
   ],
   "source": [
    "cik"
   ]
  },
  {
   "cell_type": "code",
   "execution_count": 15,
   "metadata": {},
   "outputs": [],
   "source": [
    "filingMetaData = requests.get(f\"https://data.sec.gov/submissions/CIK{cik}.json\", headers=headers)"
   ]
  },
  {
   "cell_type": "code",
   "execution_count": 17,
   "metadata": {},
   "outputs": [],
   "source": [
    "allForms = pd.DataFrame.from_dict(filingMetaData.json()[\"filings\"][\"recent\"])"
   ]
  },
  {
   "cell_type": "code",
   "execution_count": 39,
   "metadata": {},
   "outputs": [],
   "source": [
    "# To get the earnings call\n",
    "earningsData = allForms[allForms.form == '8-K']"
   ]
  },
  {
   "cell_type": "code",
   "execution_count": null,
   "metadata": {},
   "outputs": [],
   "source": []
  },
  {
   "cell_type": "code",
   "execution_count": 34,
   "metadata": {},
   "outputs": [
    {
     "data": {
      "text/html": [
       "<div>\n",
       "<style scoped>\n",
       "    .dataframe tbody tr th:only-of-type {\n",
       "        vertical-align: middle;\n",
       "    }\n",
       "\n",
       "    .dataframe tbody tr th {\n",
       "        vertical-align: top;\n",
       "    }\n",
       "\n",
       "    .dataframe thead th {\n",
       "        text-align: right;\n",
       "    }\n",
       "</style>\n",
       "<table border=\"1\" class=\"dataframe\">\n",
       "  <thead>\n",
       "    <tr style=\"text-align: right;\">\n",
       "      <th></th>\n",
       "      <th>accessionNumber</th>\n",
       "      <th>filingDate</th>\n",
       "      <th>reportDate</th>\n",
       "      <th>acceptanceDateTime</th>\n",
       "      <th>act</th>\n",
       "      <th>form</th>\n",
       "      <th>fileNumber</th>\n",
       "      <th>filmNumber</th>\n",
       "      <th>items</th>\n",
       "      <th>size</th>\n",
       "      <th>isXBRL</th>\n",
       "      <th>isInlineXBRL</th>\n",
       "      <th>primaryDocument</th>\n",
       "      <th>primaryDocDescription</th>\n",
       "    </tr>\n",
       "  </thead>\n",
       "  <tbody>\n",
       "  </tbody>\n",
       "</table>\n",
       "</div>"
      ],
      "text/plain": [
       "Empty DataFrame\n",
       "Columns: [accessionNumber, filingDate, reportDate, acceptanceDateTime, act, form, fileNumber, filmNumber, items, size, isXBRL, isInlineXBRL, primaryDocument, primaryDocDescription]\n",
       "Index: []"
      ]
     },
     "execution_count": 34,
     "metadata": {},
     "output_type": "execute_result"
    }
   ],
   "source": []
  },
  {
   "cell_type": "code",
   "execution_count": 19,
   "metadata": {},
   "outputs": [],
   "source": [
    "companyFacts = requests.get(f\"https://data.sec.gov/api/xbrl/companyfacts/CIK{cik}.json\", headers=headers)"
   ]
  },
  {
   "cell_type": "code",
   "execution_count": 21,
   "metadata": {},
   "outputs": [],
   "source": [
    "# get the company concepts\n",
    "companyConcepts = requests.get(f\"https://data.sec.gov/api/xbrl/companyconcept/CIK{cik}/us-gaap/Assets.json\",\n",
    "                               headers=headers)"
   ]
  },
  {
   "cell_type": "code",
   "execution_count": 22,
   "metadata": {},
   "outputs": [
    {
     "data": {
      "text/plain": [
       "dict_keys(['cik', 'taxonomy', 'tag', 'label', 'description', 'entityName', 'units'])"
      ]
     },
     "execution_count": 22,
     "metadata": {},
     "output_type": "execute_result"
    }
   ],
   "source": [
    "companyConcepts.json().keys()"
   ]
  },
  {
   "cell_type": "code",
   "execution_count": 25,
   "metadata": {},
   "outputs": [
    {
     "data": {
      "text/plain": [
       "{'end': '2008-09-27',\n",
       " 'val': 39572000000,\n",
       " 'accn': '0001193125-09-153165',\n",
       " 'fy': 2009,\n",
       " 'fp': 'Q3',\n",
       " 'form': '10-Q',\n",
       " 'filed': '2009-07-22'}"
      ]
     },
     "execution_count": 25,
     "metadata": {},
     "output_type": "execute_result"
    }
   ],
   "source": [
    "companyConcepts.json()['units']['USD'][0]"
   ]
  },
  {
   "cell_type": "code",
   "execution_count": 26,
   "metadata": {},
   "outputs": [],
   "source": [
    "assetData = pd.DataFrame.from_dict(companyConcepts.json()[\"units\"][\"USD\"])"
   ]
  },
  {
   "cell_type": "code",
   "execution_count": 27,
   "metadata": {},
   "outputs": [],
   "source": [
    "assets10Q = assetData[assetData.form == '10-Q']"
   ]
  },
  {
   "cell_type": "code",
   "execution_count": 28,
   "metadata": {},
   "outputs": [],
   "source": [
    "assets10Q = assets10Q.reset_index(drop=True)"
   ]
  },
  {
   "cell_type": "code",
   "execution_count": 29,
   "metadata": {},
   "outputs": [
    {
     "data": {
      "text/html": [
       "<div>\n",
       "<style scoped>\n",
       "    .dataframe tbody tr th:only-of-type {\n",
       "        vertical-align: middle;\n",
       "    }\n",
       "\n",
       "    .dataframe tbody tr th {\n",
       "        vertical-align: top;\n",
       "    }\n",
       "\n",
       "    .dataframe thead th {\n",
       "        text-align: right;\n",
       "    }\n",
       "</style>\n",
       "<table border=\"1\" class=\"dataframe\">\n",
       "  <thead>\n",
       "    <tr style=\"text-align: right;\">\n",
       "      <th></th>\n",
       "      <th>end</th>\n",
       "      <th>val</th>\n",
       "      <th>accn</th>\n",
       "      <th>fy</th>\n",
       "      <th>fp</th>\n",
       "      <th>form</th>\n",
       "      <th>filed</th>\n",
       "      <th>frame</th>\n",
       "    </tr>\n",
       "  </thead>\n",
       "  <tbody>\n",
       "    <tr>\n",
       "      <th>0</th>\n",
       "      <td>2008-09-27</td>\n",
       "      <td>39572000000</td>\n",
       "      <td>0001193125-09-153165</td>\n",
       "      <td>2009</td>\n",
       "      <td>Q3</td>\n",
       "      <td>10-Q</td>\n",
       "      <td>2009-07-22</td>\n",
       "      <td>NaN</td>\n",
       "    </tr>\n",
       "    <tr>\n",
       "      <th>1</th>\n",
       "      <td>2009-06-27</td>\n",
       "      <td>48140000000</td>\n",
       "      <td>0001193125-09-153165</td>\n",
       "      <td>2009</td>\n",
       "      <td>Q3</td>\n",
       "      <td>10-Q</td>\n",
       "      <td>2009-07-22</td>\n",
       "      <td>CY2009Q2I</td>\n",
       "    </tr>\n",
       "    <tr>\n",
       "      <th>2</th>\n",
       "      <td>2009-09-26</td>\n",
       "      <td>47501000000</td>\n",
       "      <td>0001193125-10-012085</td>\n",
       "      <td>2010</td>\n",
       "      <td>Q1</td>\n",
       "      <td>10-Q</td>\n",
       "      <td>2010-01-25</td>\n",
       "      <td>NaN</td>\n",
       "    </tr>\n",
       "    <tr>\n",
       "      <th>3</th>\n",
       "      <td>2009-09-26</td>\n",
       "      <td>47501000000</td>\n",
       "      <td>0001193125-10-088957</td>\n",
       "      <td>2010</td>\n",
       "      <td>Q2</td>\n",
       "      <td>10-Q</td>\n",
       "      <td>2010-04-21</td>\n",
       "      <td>NaN</td>\n",
       "    </tr>\n",
       "    <tr>\n",
       "      <th>4</th>\n",
       "      <td>2009-09-26</td>\n",
       "      <td>47501000000</td>\n",
       "      <td>0001193125-10-162840</td>\n",
       "      <td>2010</td>\n",
       "      <td>Q3</td>\n",
       "      <td>10-Q</td>\n",
       "      <td>2010-07-21</td>\n",
       "      <td>NaN</td>\n",
       "    </tr>\n",
       "    <tr>\n",
       "      <th>...</th>\n",
       "      <td>...</td>\n",
       "      <td>...</td>\n",
       "      <td>...</td>\n",
       "      <td>...</td>\n",
       "      <td>...</td>\n",
       "      <td>...</td>\n",
       "      <td>...</td>\n",
       "      <td>...</td>\n",
       "    </tr>\n",
       "    <tr>\n",
       "      <th>85</th>\n",
       "      <td>2023-07-01</td>\n",
       "      <td>335038000000</td>\n",
       "      <td>0000320193-23-000077</td>\n",
       "      <td>2023</td>\n",
       "      <td>Q3</td>\n",
       "      <td>10-Q</td>\n",
       "      <td>2023-08-04</td>\n",
       "      <td>CY2023Q2I</td>\n",
       "    </tr>\n",
       "    <tr>\n",
       "      <th>86</th>\n",
       "      <td>2023-09-30</td>\n",
       "      <td>352583000000</td>\n",
       "      <td>0000320193-24-000006</td>\n",
       "      <td>2024</td>\n",
       "      <td>Q1</td>\n",
       "      <td>10-Q</td>\n",
       "      <td>2024-02-02</td>\n",
       "      <td>NaN</td>\n",
       "    </tr>\n",
       "    <tr>\n",
       "      <th>87</th>\n",
       "      <td>2023-09-30</td>\n",
       "      <td>352583000000</td>\n",
       "      <td>0000320193-24-000069</td>\n",
       "      <td>2024</td>\n",
       "      <td>Q2</td>\n",
       "      <td>10-Q</td>\n",
       "      <td>2024-05-03</td>\n",
       "      <td>CY2023Q3I</td>\n",
       "    </tr>\n",
       "    <tr>\n",
       "      <th>88</th>\n",
       "      <td>2023-12-30</td>\n",
       "      <td>353514000000</td>\n",
       "      <td>0000320193-24-000006</td>\n",
       "      <td>2024</td>\n",
       "      <td>Q1</td>\n",
       "      <td>10-Q</td>\n",
       "      <td>2024-02-02</td>\n",
       "      <td>CY2023Q4I</td>\n",
       "    </tr>\n",
       "    <tr>\n",
       "      <th>89</th>\n",
       "      <td>2024-03-30</td>\n",
       "      <td>337411000000</td>\n",
       "      <td>0000320193-24-000069</td>\n",
       "      <td>2024</td>\n",
       "      <td>Q2</td>\n",
       "      <td>10-Q</td>\n",
       "      <td>2024-05-03</td>\n",
       "      <td>CY2024Q1I</td>\n",
       "    </tr>\n",
       "  </tbody>\n",
       "</table>\n",
       "<p>90 rows × 8 columns</p>\n",
       "</div>"
      ],
      "text/plain": [
       "           end           val                  accn    fy  fp  form  \\\n",
       "0   2008-09-27   39572000000  0001193125-09-153165  2009  Q3  10-Q   \n",
       "1   2009-06-27   48140000000  0001193125-09-153165  2009  Q3  10-Q   \n",
       "2   2009-09-26   47501000000  0001193125-10-012085  2010  Q1  10-Q   \n",
       "3   2009-09-26   47501000000  0001193125-10-088957  2010  Q2  10-Q   \n",
       "4   2009-09-26   47501000000  0001193125-10-162840  2010  Q3  10-Q   \n",
       "..         ...           ...                   ...   ...  ..   ...   \n",
       "85  2023-07-01  335038000000  0000320193-23-000077  2023  Q3  10-Q   \n",
       "86  2023-09-30  352583000000  0000320193-24-000006  2024  Q1  10-Q   \n",
       "87  2023-09-30  352583000000  0000320193-24-000069  2024  Q2  10-Q   \n",
       "88  2023-12-30  353514000000  0000320193-24-000006  2024  Q1  10-Q   \n",
       "89  2024-03-30  337411000000  0000320193-24-000069  2024  Q2  10-Q   \n",
       "\n",
       "         filed      frame  \n",
       "0   2009-07-22        NaN  \n",
       "1   2009-07-22  CY2009Q2I  \n",
       "2   2010-01-25        NaN  \n",
       "3   2010-04-21        NaN  \n",
       "4   2010-07-21        NaN  \n",
       "..         ...        ...  \n",
       "85  2023-08-04  CY2023Q2I  \n",
       "86  2024-02-02        NaN  \n",
       "87  2024-05-03  CY2023Q3I  \n",
       "88  2024-02-02  CY2023Q4I  \n",
       "89  2024-05-03  CY2024Q1I  \n",
       "\n",
       "[90 rows x 8 columns]"
      ]
     },
     "execution_count": 29,
     "metadata": {},
     "output_type": "execute_result"
    }
   ],
   "source": [
    "assets10Q"
   ]
  },
  {
   "cell_type": "code",
   "execution_count": 30,
   "metadata": {},
   "outputs": [
    {
     "data": {
      "text/plain": [
       "<Axes: xlabel='end'>"
      ]
     },
     "execution_count": 30,
     "metadata": {},
     "output_type": "execute_result"
    },
    {
     "data": {
      "image/png": "[encoded data removed]",
      "text/plain": [
       "<Figure size 640x480 with 1 Axes>"
      ]
     },
     "metadata": {},
     "output_type": "display_data"
    }
   ],
   "source": [
    "assets10Q.plot(x='end',y='val')"
   ]
  },
  {
   "cell_type": "code",
   "execution_count": 8,
   "metadata": {},
   "outputs": [],
   "source": [
    "import requests\n",
    "import json\n",
    "\n",
    "def get_earnings_call_transcripts(cik):\n",
    "    # Define the URL for the SEC EDGAR JSON data\n",
    "    url = f\"https://data.sec.gov/submissions/CIK{cik}.json\"\n",
    "    \n",
    "    # Set the headers\n",
    "    headers = {\n",
    "        'User-Agent': 'anupatil28@gmail.com',\n",
    "        'Accept-Encoding': 'gzip, deflate'\n",
    "    }\n",
    "    \n",
    "    # Send the request to the SEC EDGAR database\n",
    "    response = requests.get(url, headers=headers)\n",
    "    #print(response)\n",
    "    # Check if the request was successful\n",
    "    if response.status_code == 200:\n",
    "        # Parse the JSON response\n",
    "        data = response.json()\n",
    "        #print(data.keys())\n",
    "        # Extract filings\n",
    "        filings = data.get('filings', {}).get('recent', {})\n",
    "        #print(filings['form'])\n",
    "        # Filter for earnings call related filings (e.g., 8-K)\n",
    "        transcripts = []\n",
    "        for i, form in enumerate(filings.get('form', [])):\n",
    "            #print(form=='8-K')\n",
    "            if form == '8-K':\n",
    "                form = filings.get('form',[])[i]\n",
    "                primary_doc = filings.get('primaryDocument', [])[i]\n",
    "                accession_num = filings.get('accessionNumber',[])[i]\n",
    "                #print(primary_doc)\n",
    "                #if 'earnings' in primary_doc.lower() or 'transcript' in primary_doc.lower():\n",
    "                transcript = {\n",
    "                    'Form': form,\n",
    "                    'date': filings.get('filingDate', [])[i],\n",
    "                    'url': f\"https://www.sec.gov/Archives/edgar/data/{cik}/{accession_num.replace('-', '')}/{primary_doc}\"\n",
    "                }\n",
    "                transcripts.append(transcript)\n",
    "        \n",
    "        return transcripts\n",
    "    else:\n",
    "        return f\"Failed to fetch data: {response.status_code}\"\n"
   ]
  },
  {
   "cell_type": "code",
   "execution_count": 9,
   "metadata": {},
   "outputs": [],
   "source": [
    "# Example usage\n",
    "#cik = '0000320193'  # Replace with the desired company's CIK\n",
    "transcripts = get_earnings_call_transcripts(cik)\n"
   ]
  },
  {
   "cell_type": "code",
   "execution_count": 10,
   "metadata": {},
   "outputs": [
    {
     "name": "stdout",
     "output_type": "stream",
     "text": [
      "{'Form': '8-K', 'date': '2024-05-03', 'url': 'https://www.sec.gov/Archives/edgar/data/0000320193/000114036124024352/ef20028273_8k.htm'}\n",
      "{'Form': '8-K', 'date': '2024-05-02', 'url': 'https://www.sec.gov/Archives/edgar/data/0000320193/000032019324000067/aapl-20240502.htm'}\n",
      "{'Form': '8-K', 'date': '2024-02-28', 'url': 'https://www.sec.gov/Archives/edgar/data/0000320193/000114036124010155/ny20022580x1_8k.htm'}\n",
      "{'Form': '8-K', 'date': '2024-02-01', 'url': 'https://www.sec.gov/Archives/edgar/data/0000320193/000032019324000005/aapl-20240201.htm'}\n",
      "{'Form': '8-K', 'date': '2023-11-02', 'url': 'https://www.sec.gov/Archives/edgar/data/0000320193/000032019323000104/aapl-20231102.htm'}\n",
      "{'Form': '8-K', 'date': '2023-08-03', 'url': 'https://www.sec.gov/Archives/edgar/data/0000320193/000032019323000075/aapl-20230803.htm'}\n",
      "{'Form': '8-K', 'date': '2023-05-10', 'url': 'https://www.sec.gov/Archives/edgar/data/0000320193/000114036123023909/ny20007635x4_8k.htm'}\n",
      "{'Form': '8-K', 'date': '2023-05-04', 'url': 'https://www.sec.gov/Archives/edgar/data/0000320193/000032019323000063/aapl-20230504.htm'}\n",
      "{'Form': '8-K', 'date': '2023-03-10', 'url': 'https://www.sec.gov/Archives/edgar/data/0000320193/000114036123011192/brhc10049413_8k.htm'}\n",
      "{'Form': '8-K', 'date': '2023-02-02', 'url': 'https://www.sec.gov/Archives/edgar/data/0000320193/000032019323000005/aapl-20230202.htm'}\n",
      "{'Form': '8-K', 'date': '2022-11-07', 'url': 'https://www.sec.gov/Archives/edgar/data/0000320193/000119312522278435/d400465d8k.htm'}\n",
      "{'Form': '8-K', 'date': '2022-10-27', 'url': 'https://www.sec.gov/Archives/edgar/data/0000320193/000032019322000107/aapl-20221027.htm'}\n",
      "{'Form': '8-K', 'date': '2022-08-19', 'url': 'https://www.sec.gov/Archives/edgar/data/0000320193/000119312522225365/d366128d8k.htm'}\n",
      "{'Form': '8-K', 'date': '2022-08-08', 'url': 'https://www.sec.gov/Archives/edgar/data/0000320193/000119312522214914/d297151d8k.htm'}\n",
      "{'Form': '8-K', 'date': '2022-07-28', 'url': 'https://www.sec.gov/Archives/edgar/data/0000320193/000032019322000069/aapl-20220728.htm'}\n",
      "{'Form': '8-K', 'date': '2022-04-28', 'url': 'https://www.sec.gov/Archives/edgar/data/0000320193/000032019322000058/aapl-20220428.htm'}\n",
      "{'Form': '8-K', 'date': '2022-03-04', 'url': 'https://www.sec.gov/Archives/edgar/data/0000320193/000119312522066169/d294699d8k.htm'}\n",
      "{'Form': '8-K', 'date': '2022-01-27', 'url': 'https://www.sec.gov/Archives/edgar/data/0000320193/000032019322000006/aapl-20220127.htm'}\n",
      "{'Form': '8-K', 'date': '2021-11-12', 'url': 'https://www.sec.gov/Archives/edgar/data/0000320193/000119312521328151/d259993d8k.htm'}\n",
      "{'Form': '8-K', 'date': '2021-10-28', 'url': 'https://www.sec.gov/Archives/edgar/data/0000320193/000032019321000104/aapl-20211028.htm'}\n",
      "{'Form': '8-K', 'date': '2021-08-05', 'url': 'https://www.sec.gov/Archives/edgar/data/0000320193/000119312521237787/d199884d8k.htm'}\n",
      "{'Form': '8-K', 'date': '2021-07-27', 'url': 'https://www.sec.gov/Archives/edgar/data/0000320193/000032019321000063/aapl-20210727.htm'}\n",
      "{'Form': '8-K', 'date': '2021-04-28', 'url': 'https://www.sec.gov/Archives/edgar/data/0000320193/000032019321000055/aapl-20210428.htm'}\n",
      "{'Form': '8-K', 'date': '2021-02-24', 'url': 'https://www.sec.gov/Archives/edgar/data/0000320193/000119312521054710/d101693d8k.htm'}\n",
      "{'Form': '8-K', 'date': '2021-02-08', 'url': 'https://www.sec.gov/Archives/edgar/data/0000320193/000119312521032394/d70217d8k.htm'}\n",
      "{'Form': '8-K', 'date': '2021-01-27', 'url': 'https://www.sec.gov/Archives/edgar/data/0000320193/000032019321000009/aapl-20210127.htm'}\n",
      "{'Form': '8-K', 'date': '2021-01-05', 'url': 'https://www.sec.gov/Archives/edgar/data/0000320193/000119312521001982/d29637d8k.htm'}\n",
      "{'Form': '8-K', 'date': '2020-10-29', 'url': 'https://www.sec.gov/Archives/edgar/data/0000320193/000032019320000094/aapl-20201029.htm'}\n",
      "{'Form': '8-K', 'date': '2020-08-20', 'url': 'https://www.sec.gov/Archives/edgar/data/0000320193/000119312520225672/d937363d8k.htm'}\n",
      "{'Form': '8-K', 'date': '2020-08-07', 'url': 'https://www.sec.gov/Archives/edgar/data/0000320193/000119312520213158/d49399d8k.htm'}\n",
      "{'Form': '8-K', 'date': '2020-07-30', 'url': 'https://www.sec.gov/Archives/edgar/data/0000320193/000032019320000060/aapl-20200730.htm'}\n",
      "{'Form': '8-K', 'date': '2020-05-11', 'url': 'https://www.sec.gov/Archives/edgar/data/0000320193/000119312520139112/d926511d8k.htm'}\n",
      "{'Form': '8-K', 'date': '2020-04-30', 'url': 'https://www.sec.gov/Archives/edgar/data/0000320193/000032019320000050/a8-kq220203282020.htm'}\n",
      "{'Form': '8-K', 'date': '2020-02-27', 'url': 'https://www.sec.gov/Archives/edgar/data/0000320193/000119312520050884/d865740d8k.htm'}\n",
      "{'Form': '8-K', 'date': '2020-02-18', 'url': 'https://www.sec.gov/Archives/edgar/data/0000320193/000119312520039203/d845033d8k.htm'}\n",
      "{'Form': '8-K', 'date': '2020-01-28', 'url': 'https://www.sec.gov/Archives/edgar/data/0000320193/000032019320000008/a8-kq1202012282019.htm'}\n",
      "{'Form': '8-K', 'date': '2019-11-15', 'url': 'https://www.sec.gov/Archives/edgar/data/0000320193/000119312519292676/d828969d8k.htm'}\n",
      "{'Form': '8-K', 'date': '2019-10-30', 'url': 'https://www.sec.gov/Archives/edgar/data/0000320193/000032019319000117/a8-kq420199282019.htm'}\n",
      "{'Form': '8-K', 'date': '2019-09-13', 'url': 'https://www.sec.gov/Archives/edgar/data/0000320193/000032019319000093/a8-kseptember201991019.htm'}\n",
      "{'Form': '8-K', 'date': '2019-09-11', 'url': 'https://www.sec.gov/Archives/edgar/data/0000320193/000119312519242975/d777124d8k.htm'}\n",
      "{'Form': '8-K', 'date': '2019-07-30', 'url': 'https://www.sec.gov/Archives/edgar/data/0000320193/000032019319000073/a8-kq320196292019.htm'}\n",
      "{'Form': '8-K', 'date': '2019-04-30', 'url': 'https://www.sec.gov/Archives/edgar/data/0000320193/000032019319000063/a8-kq220193302019.htm'}\n",
      "{'Form': '8-K', 'date': '2019-03-04', 'url': 'https://www.sec.gov/Archives/edgar/data/0000320193/000032019319000032/copyofreference8-kform8xkq.htm'}\n",
      "{'Form': '8-K', 'date': '2019-02-06', 'url': 'https://www.sec.gov/Archives/edgar/data/0000320193/000032019319000026/a8-kfebruary2019252019.htm'}\n",
      "{'Form': '8-K', 'date': '2019-01-29', 'url': 'https://www.sec.gov/Archives/edgar/data/0000320193/000032019319000007/a8-kq1201912292018.htm'}\n",
      "{'Form': '8-K', 'date': '2019-01-02', 'url': 'https://www.sec.gov/Archives/edgar/data/0000320193/000032019319000002/a8-kjanuary2019122019.htm'}\n",
      "{'Form': '8-K', 'date': '2018-11-01', 'url': 'https://www.sec.gov/Archives/edgar/data/0000320193/000032019318000142/a8-kq420189292018.htm'}\n",
      "{'Form': '8-K', 'date': '2018-07-31', 'url': 'https://www.sec.gov/Archives/edgar/data/0000320193/000032019318000098/a8-kq320186302018.htm'}\n",
      "{'Form': '8-K', 'date': '2018-05-07', 'url': 'https://www.sec.gov/Archives/edgar/data/0000320193/000119312518154515/d563832d8k.htm'}\n",
      "{'Form': '8-K', 'date': '2018-05-01', 'url': 'https://www.sec.gov/Archives/edgar/data/0000320193/000032019318000067/a8-kq220183312018.htm'}\n",
      "{'Form': '8-K', 'date': '2018-02-14', 'url': 'https://www.sec.gov/Archives/edgar/data/0000320193/000119312518045761/d374908d8k.htm'}\n",
      "{'Form': '8-K', 'date': '2018-02-01', 'url': 'https://www.sec.gov/Archives/edgar/data/0000320193/000032019318000005/a8-kq1201812302017.htm'}\n",
      "{'Form': '8-K', 'date': '2017-11-13', 'url': 'https://www.sec.gov/Archives/edgar/data/0000320193/000119312517341015/d478060d8k.htm'}\n",
      "{'Form': '8-K', 'date': '2017-11-02', 'url': 'https://www.sec.gov/Archives/edgar/data/0000320193/000032019317000067/a8-kq420179302017.htm'}\n",
      "{'Form': '8-K', 'date': '2017-10-12', 'url': 'https://www.sec.gov/Archives/edgar/data/0000320193/000119312517308859/d386231d8k.htm'}\n",
      "{'Form': '8-K', 'date': '2017-09-12', 'url': 'https://www.sec.gov/Archives/edgar/data/0000320193/000119312517282809/d434478d8k.htm'}\n",
      "{'Form': '8-K', 'date': '2017-08-18', 'url': 'https://www.sec.gov/Archives/edgar/data/0000320193/000119312517262261/d593893d8k.htm'}\n",
      "{'Form': '8-K', 'date': '2017-08-01', 'url': 'https://www.sec.gov/Archives/edgar/data/0000320193/000032019317000006/a8-kq32017712017.htm'}\n",
      "{'Form': '8-K', 'date': '2017-06-20', 'url': 'https://www.sec.gov/Archives/edgar/data/0000320193/000119312517208226/d413980d8k.htm'}\n",
      "{'Form': '8-K', 'date': '2017-05-24', 'url': 'https://www.sec.gov/Archives/edgar/data/0000320193/000119312517181867/d583637d8k.htm'}\n",
      "{'Form': '8-K', 'date': '2017-05-11', 'url': 'https://www.sec.gov/Archives/edgar/data/0000320193/000119312517167400/d388721d8k.htm'}\n",
      "{'Form': '8-K', 'date': '2017-05-02', 'url': 'https://www.sec.gov/Archives/edgar/data/0000320193/000162828017004663/a8-kq22017412017.htm'}\n",
      "{'Form': '8-K', 'date': '2017-03-03', 'url': 'https://www.sec.gov/Archives/edgar/data/0000320193/000119312517069853/d348450d8k.htm'}\n",
      "{'Form': '8-K', 'date': '2017-03-01', 'url': 'https://www.sec.gov/Archives/edgar/data/0000320193/000119312517064019/d342218d8k.htm'}\n",
      "{'Form': '8-K', 'date': '2017-02-09', 'url': 'https://www.sec.gov/Archives/edgar/data/0000320193/000119312517036283/d340350d8k.htm'}\n",
      "{'Form': '8-K', 'date': '2017-01-31', 'url': 'https://www.sec.gov/Archives/edgar/data/0000320193/000162828017000663/a8-kq1201712312016.htm'}\n",
      "{'Form': '8-K', 'date': '2016-12-15', 'url': 'https://www.sec.gov/Archives/edgar/data/0000320193/000162828016022047/form8-k121316.htm'}\n",
      "{'Form': '8-K', 'date': '2016-10-25', 'url': 'https://www.sec.gov/Archives/edgar/data/0000320193/000162828016020258/a8-kq420169242016.htm'}\n",
      "{'Form': '8-K', 'date': '2016-08-04', 'url': 'https://www.sec.gov/Archives/edgar/data/0000320193/000119312516672044/d234980d8k.htm'}\n",
      "{'Form': '8-K', 'date': '2016-07-26', 'url': 'https://www.sec.gov/Archives/edgar/data/0000320193/000162828016017762/a8-kq320166252016.htm'}\n",
      "{'Form': '8-K', 'date': '2016-06-22', 'url': 'https://www.sec.gov/Archives/edgar/data/0000320193/000119312516628957/d209946d8k.htm'}\n",
      "{'Form': '8-K', 'date': '2016-04-26', 'url': 'https://www.sec.gov/Archives/edgar/data/0000320193/000119312516556520/d325078d8k.htm'}\n",
      "{'Form': '8-K', 'date': '2016-03-24', 'url': 'https://www.sec.gov/Archives/edgar/data/0000320193/000119312516516891/d161597d8k.htm'}\n",
      "{'Form': '8-K', 'date': '2016-03-01', 'url': 'https://www.sec.gov/Archives/edgar/data/0000320193/000119312516488223/d150918d8k.htm'}\n",
      "{'Form': '8-K', 'date': '2016-02-23', 'url': 'https://www.sec.gov/Archives/edgar/data/0000320193/000119312516473562/d143184d8k.htm'}\n",
      "{'Form': '8-K', 'date': '2016-01-26', 'url': 'https://www.sec.gov/Archives/edgar/data/0000320193/000119312516438421/d22806d8k.htm'}\n",
      "{'Form': '8-K', 'date': '2015-12-22', 'url': 'https://www.sec.gov/Archives/edgar/data/0000320193/000119312515410853/d55543d8k.htm'}\n",
      "{'Form': '8-K', 'date': '2015-12-17', 'url': 'https://www.sec.gov/Archives/edgar/data/0000320193/000119312515406279/d107635d8k.htm'}\n",
      "{'Form': '8-K', 'date': '2015-10-27', 'url': 'https://www.sec.gov/Archives/edgar/data/0000320193/000119312515354756/d74332d8k.htm'}\n",
      "{'Form': '8-K', 'date': '2015-10-02', 'url': 'https://www.sec.gov/Archives/edgar/data/0000320193/000119312515336615/d10101d8k.htm'}\n",
      "{'Form': '8-K', 'date': '2015-09-17', 'url': 'https://www.sec.gov/Archives/edgar/data/0000320193/000119312515322466/d31615d8k.htm'}\n",
      "{'Form': '8-K', 'date': '2015-07-31', 'url': 'https://www.sec.gov/Archives/edgar/data/0000320193/000119312515273023/d12789d8k.htm'}\n",
      "{'Form': '8-K', 'date': '2015-07-21', 'url': 'https://www.sec.gov/Archives/edgar/data/0000320193/000119312515258464/d927923d8k.htm'}\n",
      "{'Form': '8-K', 'date': '2015-06-10', 'url': 'https://www.sec.gov/Archives/edgar/data/0000320193/000119312515219298/d938654d8k.htm'}\n",
      "{'Form': '8-K', 'date': '2015-05-13', 'url': 'https://www.sec.gov/Archives/edgar/data/0000320193/000119312515186064/d923398d8k.htm'}\n",
      "{'Form': '8-K', 'date': '2015-04-27', 'url': 'https://www.sec.gov/Archives/edgar/data/0000320193/000119312515149607/d914157d8k.htm'}\n",
      "{'Form': '8-K', 'date': '2015-04-27', 'url': 'https://www.sec.gov/Archives/edgar/data/0000320193/000119312515149590/d901296d8k.htm'}\n",
      "{'Form': '8-K', 'date': '2015-03-13', 'url': 'https://www.sec.gov/Archives/edgar/data/0000320193/000110465915019336/a15-5624_18k.htm'}\n",
      "{'Form': '8-K', 'date': '2015-02-09', 'url': 'https://www.sec.gov/Archives/edgar/data/0000320193/000119312515039270/d868302d8k.htm'}\n",
      "{'Form': '8-K', 'date': '2015-01-28', 'url': 'https://www.sec.gov/Archives/edgar/data/0000320193/000119312515023732/d835617d8k.htm'}\n",
      "{'Form': '8-K', 'date': '2015-01-27', 'url': 'https://www.sec.gov/Archives/edgar/data/0000320193/000119312515021857/d835619d8k.htm'}\n",
      "{'Form': '8-K', 'date': '2014-11-10', 'url': 'https://www.sec.gov/Archives/edgar/data/0000320193/000119312514406296/d816414d8k.htm'}\n",
      "{'Form': '8-K', 'date': '2014-10-20', 'url': 'https://www.sec.gov/Archives/edgar/data/0000320193/000119312514376361/d806538d8k.htm'}\n",
      "{'Form': '8-K', 'date': '2014-07-23', 'url': 'https://www.sec.gov/Archives/edgar/data/0000320193/000119312514277193/d757212d8k.htm'}\n",
      "{'Form': '8-K', 'date': '2014-07-22', 'url': 'https://www.sec.gov/Archives/edgar/data/0000320193/000119312514275598/d760213d8k.htm'}\n",
      "{'Form': '8-K', 'date': '2014-07-17', 'url': 'https://www.sec.gov/Archives/edgar/data/0000320193/000119312514271698/d758295d8k.htm'}\n",
      "{'Form': '8-K', 'date': '2014-06-06', 'url': 'https://www.sec.gov/Archives/edgar/data/0000320193/000119312514228798/d739696d8k.htm'}\n",
      "{'Form': '8-K', 'date': '2014-05-30', 'url': 'https://www.sec.gov/Archives/edgar/data/0000320193/000118143114021923/rrd410610.htm'}\n",
      "{'Form': '8-K', 'date': '2014-05-06', 'url': 'https://www.sec.gov/Archives/edgar/data/0000320193/000119312514184969/d721207d8k.htm'}\n",
      "{'Form': '8-K', 'date': '2014-04-23', 'url': 'https://www.sec.gov/Archives/edgar/data/0000320193/000119312514154883/d715379d8k.htm'}\n",
      "{'Form': '8-K', 'date': '2014-04-23', 'url': 'https://www.sec.gov/Archives/edgar/data/0000320193/000119312514154871/d715148d8k.htm'}\n",
      "{'Form': '8-K', 'date': '2014-03-05', 'url': 'https://www.sec.gov/Archives/edgar/data/0000320193/000119312514084697/d684095d8k.htm'}\n",
      "{'Form': '8-K', 'date': '2014-01-27', 'url': 'https://www.sec.gov/Archives/edgar/data/0000320193/000119312514022238/d652772d8k.htm'}\n"
     ]
    }
   ],
   "source": [
    "for transcript in transcripts:\n",
    "    print(transcript)"
   ]
  },
  {
   "cell_type": "code",
   "execution_count": 11,
   "metadata": {},
   "outputs": [],
   "source": [
    "final_output = pd.DataFrame.from_dict(transcripts)"
   ]
  },
  {
   "cell_type": "code",
   "execution_count": 12,
   "metadata": {},
   "outputs": [
    {
     "data": {
      "text/html": [
       "<div>\n",
       "<style scoped>\n",
       "    .dataframe tbody tr th:only-of-type {\n",
       "        vertical-align: middle;\n",
       "    }\n",
       "\n",
       "    .dataframe tbody tr th {\n",
       "        vertical-align: top;\n",
       "    }\n",
       "\n",
       "    .dataframe thead th {\n",
       "        text-align: right;\n",
       "    }\n",
       "</style>\n",
       "<table border=\"1\" class=\"dataframe\">\n",
       "  <thead>\n",
       "    <tr style=\"text-align: right;\">\n",
       "      <th></th>\n",
       "      <th>Form</th>\n",
       "      <th>date</th>\n",
       "      <th>url</th>\n",
       "    </tr>\n",
       "  </thead>\n",
       "  <tbody>\n",
       "    <tr>\n",
       "      <th>0</th>\n",
       "      <td>8-K</td>\n",
       "      <td>2024-05-03</td>\n",
       "      <td>https://www.sec.gov/Archives/edgar/data/000032...</td>\n",
       "    </tr>\n",
       "    <tr>\n",
       "      <th>1</th>\n",
       "      <td>8-K</td>\n",
       "      <td>2024-05-02</td>\n",
       "      <td>https://www.sec.gov/Archives/edgar/data/000032...</td>\n",
       "    </tr>\n",
       "    <tr>\n",
       "      <th>2</th>\n",
       "      <td>8-K</td>\n",
       "      <td>2024-02-28</td>\n",
       "      <td>https://www.sec.gov/Archives/edgar/data/000032...</td>\n",
       "    </tr>\n",
       "    <tr>\n",
       "      <th>3</th>\n",
       "      <td>8-K</td>\n",
       "      <td>2024-02-01</td>\n",
       "      <td>https://www.sec.gov/Archives/edgar/data/000032...</td>\n",
       "    </tr>\n",
       "    <tr>\n",
       "      <th>4</th>\n",
       "      <td>8-K</td>\n",
       "      <td>2023-11-02</td>\n",
       "      <td>https://www.sec.gov/Archives/edgar/data/000032...</td>\n",
       "    </tr>\n",
       "  </tbody>\n",
       "</table>\n",
       "</div>"
      ],
      "text/plain": [
       "  Form        date                                                url\n",
       "0  8-K  2024-05-03  https://www.sec.gov/Archives/edgar/data/000032...\n",
       "1  8-K  2024-05-02  https://www.sec.gov/Archives/edgar/data/000032...\n",
       "2  8-K  2024-02-28  https://www.sec.gov/Archives/edgar/data/000032...\n",
       "3  8-K  2024-02-01  https://www.sec.gov/Archives/edgar/data/000032...\n",
       "4  8-K  2023-11-02  https://www.sec.gov/Archives/edgar/data/000032..."
      ]
     },
     "execution_count": 12,
     "metadata": {},
     "output_type": "execute_result"
    }
   ],
   "source": [
    "final_output.head()"
   ]
  },
  {
   "cell_type": "code",
   "execution_count": 13,
   "metadata": {},
   "outputs": [],
   "source": [
    "final_output.to_csv(\"earnings_call.csv\")"
   ]
  }
 ],
 "metadata": {
  "kernelspec": {
   "display_name": "myenv",
   "language": "python",
   "name": "python3"
  },
  "language_info": {
   "codemirror_mode": {
    "name": "ipython",
    "version": 3
   },
   "file_extension": ".py",
   "mimetype": "text/x-python",
   "name": "python",
   "nbconvert_exporter": "python",
   "pygments_lexer": "ipython3",
   "version": "3.10.11"
  }
 },
 "nbformat": 4,
 "nbformat_minor": 2
}
